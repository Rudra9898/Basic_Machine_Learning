{
 "cells": [
  {
   "cell_type": "markdown",
   "id": "2a4d2ac1",
   "metadata": {},
   "source": [
    "<img src=\"aaa.PNG\" >\n",
    "<img src=\"Screenshot_20240830-230056.PNG\" >"
   ]
  },
  {
   "cell_type": "code",
   "execution_count": 1,
   "id": "b7dc323a",
   "metadata": {},
   "outputs": [],
   "source": [
    "import numpy as np\n",
    "import pandas as pd\n",
    "import matplotlib.pyplot as plt"
   ]
  },
  {
   "cell_type": "code",
   "execution_count": 2,
   "id": "c94b69d1",
   "metadata": {
    "scrolled": true
   },
   "outputs": [
    {
     "data": {
      "text/html": [
       "<div>\n",
       "<style scoped>\n",
       "    .dataframe tbody tr th:only-of-type {\n",
       "        vertical-align: middle;\n",
       "    }\n",
       "\n",
       "    .dataframe tbody tr th {\n",
       "        vertical-align: top;\n",
       "    }\n",
       "\n",
       "    .dataframe thead th {\n",
       "        text-align: right;\n",
       "    }\n",
       "</style>\n",
       "<table border=\"1\" class=\"dataframe\">\n",
       "  <thead>\n",
       "    <tr style=\"text-align: right;\">\n",
       "      <th></th>\n",
       "      <th>name</th>\n",
       "      <th>math</th>\n",
       "      <th>cs</th>\n",
       "    </tr>\n",
       "  </thead>\n",
       "  <tbody>\n",
       "    <tr>\n",
       "      <th>0</th>\n",
       "      <td>david</td>\n",
       "      <td>92</td>\n",
       "      <td>98</td>\n",
       "    </tr>\n",
       "    <tr>\n",
       "      <th>1</th>\n",
       "      <td>laura</td>\n",
       "      <td>56</td>\n",
       "      <td>68</td>\n",
       "    </tr>\n",
       "    <tr>\n",
       "      <th>2</th>\n",
       "      <td>sanjay</td>\n",
       "      <td>88</td>\n",
       "      <td>81</td>\n",
       "    </tr>\n",
       "    <tr>\n",
       "      <th>3</th>\n",
       "      <td>wei</td>\n",
       "      <td>70</td>\n",
       "      <td>80</td>\n",
       "    </tr>\n",
       "    <tr>\n",
       "      <th>4</th>\n",
       "      <td>jeff</td>\n",
       "      <td>80</td>\n",
       "      <td>83</td>\n",
       "    </tr>\n",
       "  </tbody>\n",
       "</table>\n",
       "</div>"
      ],
      "text/plain": [
       "     name  math  cs\n",
       "0   david    92  98\n",
       "1   laura    56  68\n",
       "2  sanjay    88  81\n",
       "3     wei    70  80\n",
       "4    jeff    80  83"
      ]
     },
     "execution_count": 2,
     "metadata": {},
     "output_type": "execute_result"
    }
   ],
   "source": [
    "df=pd.read_csv('test_scores.csv')\n",
    "df.head()"
   ]
  },
  {
   "cell_type": "code",
   "execution_count": 58,
   "id": "147adbe8",
   "metadata": {},
   "outputs": [],
   "source": [
    "def gradient(X,y):\n",
    "    m_curr=b_curr=0\n",
    "    rate=0.01\n",
    "    iteration=1000\n",
    "    n=len(X)\n",
    "    for i in range(iteration):\n",
    "        y_pred= m_curr*X + b_curr\n",
    "        md= -(2/n)*sum(X*(y-y_pred))\n",
    "        bd= -(2/n)*sum((y-y_pred))\n",
    "        m_curr = m_curr - rate*md\n",
    "        b_curr = b_curr - rate*bd\n",
    "        cost= (1/n)*sum([val**2 for val in (y-y_pred)])\n",
    "    print(m_curr , b_curr , cost , i)\n",
    "    \n"
   ]
  },
  {
   "cell_type": "code",
   "execution_count": 59,
   "id": "88c6e584",
   "metadata": {},
   "outputs": [],
   "source": [
    "X=df['math']\n",
    "y=df['cs']"
   ]
  },
  {
   "cell_type": "code",
   "execution_count": 60,
   "id": "9bcfc2d2",
   "metadata": {},
   "outputs": [
    {
     "ename": "OverflowError",
     "evalue": "(34, 'Result too large')",
     "output_type": "error",
     "traceback": [
      "\u001b[1;31m---------------------------------------------------------------------------\u001b[0m",
      "\u001b[1;31mOverflowError\u001b[0m                             Traceback (most recent call last)",
      "Cell \u001b[1;32mIn[60], line 2\u001b[0m\n\u001b[0;32m      1\u001b[0m \u001b[38;5;66;03m# gradient(df['math'],df['cs'])\u001b[39;00m\n\u001b[1;32m----> 2\u001b[0m \u001b[43mgradient\u001b[49m\u001b[43m(\u001b[49m\u001b[43mX\u001b[49m\u001b[43m,\u001b[49m\u001b[43my\u001b[49m\u001b[43m)\u001b[49m\n",
      "Cell \u001b[1;32mIn[58], line 12\u001b[0m, in \u001b[0;36mgradient\u001b[1;34m(X, y)\u001b[0m\n\u001b[0;32m     10\u001b[0m     m_curr \u001b[38;5;241m=\u001b[39m m_curr \u001b[38;5;241m-\u001b[39m rate\u001b[38;5;241m*\u001b[39mmd\n\u001b[0;32m     11\u001b[0m     b_curr \u001b[38;5;241m=\u001b[39m b_curr \u001b[38;5;241m-\u001b[39m rate\u001b[38;5;241m*\u001b[39mbd\n\u001b[1;32m---> 12\u001b[0m     cost\u001b[38;5;241m=\u001b[39m (\u001b[38;5;241m1\u001b[39m\u001b[38;5;241m/\u001b[39mn)\u001b[38;5;241m*\u001b[39m\u001b[38;5;28msum\u001b[39m([\u001b[43mval\u001b[49m\u001b[38;5;241;43m*\u001b[39;49m\u001b[38;5;241;43m*\u001b[39;49m\u001b[38;5;241;43m2\u001b[39;49m \u001b[38;5;28;01mfor\u001b[39;00m val \u001b[38;5;129;01min\u001b[39;00m (y\u001b[38;5;241m-\u001b[39my_pred)])\n\u001b[0;32m     13\u001b[0m \u001b[38;5;28mprint\u001b[39m(m_curr , b_curr , cost , i)\n",
      "\u001b[1;31mOverflowError\u001b[0m: (34, 'Result too large')"
     ]
    }
   ],
   "source": [
    "# gradient(df['math'],df['cs'])\n",
    "gradient(X,y)"
   ]
  },
  {
   "cell_type": "code",
   "execution_count": null,
   "id": "188f33cb",
   "metadata": {},
   "outputs": [],
   "source": []
  }
 ],
 "metadata": {
  "kernelspec": {
   "display_name": "my_kernel",
   "language": "python",
   "name": "my_kernel"
  },
  "language_info": {
   "codemirror_mode": {
    "name": "ipython",
    "version": 3
   },
   "file_extension": ".py",
   "mimetype": "text/x-python",
   "name": "python",
   "nbconvert_exporter": "python",
   "pygments_lexer": "ipython3",
   "version": "3.12.2"
  }
 },
 "nbformat": 4,
 "nbformat_minor": 5
}
